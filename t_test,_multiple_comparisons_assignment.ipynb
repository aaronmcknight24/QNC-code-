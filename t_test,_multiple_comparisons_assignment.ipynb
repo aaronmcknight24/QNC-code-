{
  "cells": [
    {
      "cell_type": "markdown",
      "metadata": {
        "id": "6h-CeTRYQeG8"
      },
      "source": [
        "[![Open In Colab](https://colab.research.google.com/assets/colab-badge.svg)](https://colab.research.google.com/github/PennNGG/Quantitative-Neuroscience/blob/master/Answers%20to%20Exercises/Python/t%20test%20and%20Multiple%20Comparisons%20Answers.ipynb)"
      ]
    },
    {
      "cell_type": "markdown",
      "metadata": {
        "id": "C87ie5glQeG_"
      },
      "source": [
        "Below are answers to the exercises described [here](https://github.com/PennNGG/Quantitative-Neuroscience/blob/master/Concepts/Python/Multiple%20Comparisons.ipynb)"
      ]
    },
    {
      "cell_type": "markdown",
      "metadata": {
        "id": "mtCM-hKmQeHA"
      },
      "source": [
        "# Getting Started with Code"
      ]
    },
    {
      "cell_type": "markdown",
      "metadata": {
        "id": "kXAFg8vcQeHA"
      },
      "source": [
        "Matlab code is found in the [NGG Statistics GitHub Repository](https://github.com/PennNGG/Statistics.git) under \"Answers to Exercices/Matlab\".\n",
        "\n",
        "Python code is included below. First run the code cell just below to make sure all of the required Python modules are loaded, then you can run the other cell(s)."
      ]
    },
    {
      "cell_type": "code",
      "execution_count": null,
      "metadata": {
        "id": "Rq5m-ia2QeHA"
      },
      "outputs": [],
      "source": [
        "import scipy.stats as st\n",
        "import numpy as np\n",
        "\n",
        "# the statsmodels package has a built in function that allows us to use multiple methods for FDR correction\n",
        "import statsmodels.stats.multitest as smt"
      ]
    },
    {
      "cell_type": "markdown",
      "metadata": {
        "id": "HuhW-3v5RmKY"
      },
      "source": [
        "In this exercise we will run through an example of correcting for multiple comparisons with both the Benjamini-Hochberg procedure and the more conservative Bonferroni correction. \n",
        "\n",
        "First, simulate multiple (say, 1000) t-tests comparing two samples with equal means and standard deviations, and save the p-values. Obviously, at p<0.05 we expect that ~5% of the simulations to yield a \"statistically significant\" result (of rejecting the NULL hypothesis that the samples come from distributions with equal means)"
      ]
    },
    {
      "cell_type": "code",
      "execution_count": null,
      "metadata": {
        "id": "bHXxXlFvRdRf",
        "outputId": "f3a55e29-ff0d-429f-9daf-ccb6350b5d61"
      },
      "outputs": [
        {
          "name": "stdout",
          "output_type": "stream",
          "text": [
            "Found 46 out of 1000 at p<0.05\n"
          ]
        }
      ],
      "source": [
        "# determine how many comparisons (feel free to change this up and see what happens)\n",
        "N_tests = 1000\n",
        "\n",
        "# Set sample parameters\n",
        "# Sample 1\n",
        "mu_1 = 1\n",
        "sigma_1 = 2\n",
        "N_1 = 100\n",
        "\n",
        "# sample 2 \n",
        "mu_2 = mu_1\n",
        "sigma_2 = sigma_1\n",
        "N_2 = N_1\n",
        "\n",
        "p_values = [] # initialize an empty array where we will store our p-values\n",
        "# Set the number of comparisons - here we will use 1000\n",
        "for i in range(N_tests):\n",
        "  sample_1 = np.random.normal(mu_1, sigma_1, N_1) # generate sample 1\n",
        "  sample_2 = np.random.normal(mu_2, sigma_2, N_2) # generate sample 2\n",
        "\n",
        "  # we wil use scipy's built-in t-test function\n",
        "  p = st.ttest_ind(a = sample_1, b = sample_2)[1]\n",
        "  p_values.append(p)\n",
        "\n",
        "alpha = 0.05\n",
        "print(f'Found {len([i for i in p_values if i < alpha])} out of {N_tests} at p<{alpha:.2f}')"
      ]
    },
    {
      "cell_type": "markdown",
      "metadata": {
        "id": "hC6ZURUdUdnz"
      },
      "source": [
        "Second, once you have the simulated p-values, apply both methods to address the multiple comparisons problem."
      ]
    },
    {
      "cell_type": "code",
      "execution_count": null,
      "metadata": {
        "colab": {
          "base_uri": "https://localhost:8080/"
        },
        "id": "1uTcH0LCUrz7",
        "outputId": "6a1b8a1f-3494-485f-9517-61f818238f5a"
      },
      "outputs": [
        {
          "name": "stdout",
          "output_type": "stream",
          "text": [
            "Before correction, 949 trials were deemed significant. After B&H correction, 946 trials were deemed significant. After Bonferroni correction, 290 trials were deemed significant.\n"
          ]
        }
      ],
      "source": [
        "method_1 = 'fdr_bh' # Benjamini-Hochberg\n",
        "method_2 = 'bonferroni' # Bonferroni\n",
        "\n",
        "p_bh_corrected = smt.multipletests(p_values, alpha = alpha, method = method_1)[1] # perform B&H procedure\n",
        "p_bonferroni_corrected = smt.multipletests(p_values, alpha = alpha, method = method_2)[1] # perform bonferroni\n",
        "\n",
        "# How many p_values were marked as significant before correction, at the 0.05 level?\n",
        "before = len([i for i in p_values if i < 0.05])\n",
        "\n",
        "# How many _values were marked as significant after B&H correction at the 0.05 level? What about after bonferroni correction?\n",
        "after_bh = len([i for i in p_bh_corrected if i < 0.05])\n",
        "after_bon = len([i for i in p_bonferroni_corrected if i < 0.05])\n",
        "\n",
        "# Output result\n",
        "print(f'Before correction, {before} trials were deemed significant. After B&H correction, {after_bh} trials were deemed significant. After Bonferroni correction, {after_bon} trials were deemed significant.')"
      ]
    },
    {
      "cell_type": "markdown",
      "metadata": {
        "id": "JXG44_9Fbiaz"
      },
      "source": [
        "Third, set the sample 1 and sample 2 means to be 1 and 2 respectively, and re-run the exercise. What do you notice? What if you make the difference between means even greater?"
      ]
    },
    {
      "cell_type": "markdown",
      "metadata": {
        "id": "WVBlIXo6ceb3"
      },
      "source": [
        "Answer: Bonferroni is much more conservative (rejects many more true positives)\n"
      ]
    },
    {
      "cell_type": "markdown",
      "metadata": {
        "id": "Lkea-jg1QeHF"
      },
      "source": [
        "# Credits\n",
        "\n",
        "Copyright 2022 by Diego Dávila, University of Pennsylvania"
      ]
    }
  ],
  "metadata": {
    "colab": {
      "name": "t-test, multiple comparisons assignment.ipynb",
      "provenance": [],
      "toc_visible": true
    },
    "kernelspec": {
      "display_name": "Python 3.9.6 64-bit",
      "language": "python",
      "name": "python3"
    },
    "language_info": {
      "codemirror_mode": {
        "name": "ipython",
        "version": 3
      },
      "file_extension": ".py",
      "mimetype": "text/x-python",
      "name": "python",
      "nbconvert_exporter": "python",
      "pygments_lexer": "ipython3",
      "version": "3.9.6"
    },
    "vscode": {
      "interpreter": {
        "hash": "aee8b7b246df8f9039afb4144a1f6fd8d2ca17a180786b69acc140d282b71a49"
      }
    }
  },
  "nbformat": 4,
  "nbformat_minor": 0
}