{
  "nbformat": 4,
  "nbformat_minor": 0,
  "metadata": {
    "colab": {
      "provenance": [],
      "toc_visible": true
    },
    "kernelspec": {
      "name": "python3",
      "display_name": "Python 3"
    },
    "language_info": {
      "name": "python"
    }
  },
  "cells": [
    {
      "cell_type": "code",
      "execution_count": 7,
      "metadata": {
        "id": "5tirPKh52FW1"
      },
      "outputs": [],
      "source": [
        "import scipy.stats as st \n",
        "import numpy as np "
      ]
    },
    {
      "cell_type": "code",
      "source": [
        "#Compute confidence/credible intervals based on the four methods decsrcivbed for stimulated data sampled\n",
        "#from a population that is Guassian distributed with mean (mu=10) and standard deviation = 2 \n",
        "#for n=5, 10, 20, 40, 80, 160, 1000 at a 95% confidence level \n",
        "\n",
        "\n",
        "mu = 10 \n",
        "sigma = 2 \n",
        "alpha = 0.95 \n",
        "num_bootstraps = 1000 \n",
        "\n",
        "# Loop through the ns. Note that the different approaches converge on the same answer as n gets large \n",
        "for n in [5, 10, 20, 40, 80, 160, 1000]:\n",
        "\n",
        "  # simulate some data \n",
        "  samples = np.random.normal(mu, sigma, n) \n",
        "\n",
        "  # save the mean \n",
        "  sample_mean = np.mean(samples)\n",
        "\n",
        "  # show the mean, n \n",
        "  print(f'n = {n}, mean = {sample_mean:.2f}') \n",
        "\n",
        "  # Method 1: analytic solution assuming Gaussian \n",
        "  # We \n",
        "  # Get the z-score for the given confidence level (make it negative so we can subtract it to make the lower interval)\n",
        "  z = -st.norm.ppf((1-alpha)/2) \n",
        "\n",
        "  #1a. Use the given sigma \n",
        "  sem = sigma/np.sqrt(n) \n",
        "  print(f'la: CI=[{sample_mean-sem*z:.2f}, {sample_mean+sem*z:.2f}]')\n",
        "\n",
        "  #1b. Use the sample sigma \n",
        "  # Best if n is large (>30)\n",
        "  #sem = np.std(samples)/np.sqrt(n) \n",
        "  #print(f'1b: CI=[{sample_mean-sem*z:.2f}, {sample_mean+sem*z:.2f}]')\n",
        "\n",
        "\n"
      ],
      "metadata": {
        "colab": {
          "base_uri": "https://localhost:8080/"
        },
        "id": "TpXzwVX62L7I",
        "outputId": "546c6fa4-415a-4f59-cb51-dd94f4a69d44"
      },
      "execution_count": 10,
      "outputs": [
        {
          "output_type": "stream",
          "name": "stdout",
          "text": [
            "n = 5, mean = 10.43\n",
            "la: CI=[8.68, 12.18]\n",
            "n = 10, mean = 10.67\n",
            "la: CI=[9.43, 11.91]\n",
            "n = 20, mean = 10.39\n",
            "la: CI=[9.51, 11.27]\n",
            "n = 40, mean = 9.95\n",
            "la: CI=[9.33, 10.57]\n",
            "n = 80, mean = 10.46\n",
            "la: CI=[10.03, 10.90]\n",
            "n = 160, mean = 10.07\n",
            "la: CI=[9.76, 10.38]\n",
            "n = 1000, mean = 9.97\n",
            "la: CI=[9.85, 10.09]\n"
          ]
        }
      ]
    },
    {
      "cell_type": "code",
      "source": [
        " \n",
        " \n",
        "mu = 10 \n",
        "sigma = 2 \n",
        "alpha = 0.95 \n",
        "num_bootstraps = 1000 \n",
        "\n",
        "# Loop through the ns. Note that the different approaches converge on the same answer as n gets large \n",
        "for n in [5, 10, 20, 40, 80, 160, 1000]:\n",
        "\n",
        "  # simulate some data \n",
        "  samples = np.random.normal(mu, sigma, n) \n",
        "\n",
        "  # save the mean \n",
        "  sample_mean = np.mean(samples)\n",
        "\n",
        "  # show the mean, n \n",
        "  print(f'n = {n}, mean = {sample_mean:.2f}') \n",
        " \n",
        " #1b. Use the sample sigma \n",
        "   # Best if n is large (>30)\n",
        "  sem = np.std(samples)/np.sqrt(n) \n",
        "  print(f'2: CI=[{sample_mean-sem*z:.2f}, {sample_mean+sem*z:.2f}]')"
      ],
      "metadata": {
        "colab": {
          "base_uri": "https://localhost:8080/"
        },
        "id": "rAJraqfB-x9U",
        "outputId": "899862cb-064b-4e3d-c936-96efd1572249"
      },
      "execution_count": 14,
      "outputs": [
        {
          "output_type": "stream",
          "name": "stdout",
          "text": [
            "n = 5, mean = 9.80\n",
            "2: CI=[7.90, 11.69]\n",
            "n = 10, mean = 10.55\n",
            "2: CI=[9.58, 11.53]\n",
            "n = 20, mean = 9.86\n",
            "2: CI=[8.98, 10.74]\n",
            "n = 40, mean = 9.89\n",
            "2: CI=[9.18, 10.61]\n",
            "n = 80, mean = 9.96\n",
            "2: CI=[9.49, 10.43]\n",
            "n = 160, mean = 9.83\n",
            "2: CI=[9.53, 10.13]\n",
            "n = 1000, mean = 10.03\n",
            "2: CI=[9.91, 10.16]\n"
          ]
        }
      ]
    },
    {
      "cell_type": "code",
      "source": [
        "mu = 10 \n",
        "sigma = 2 \n",
        "alpha = 0.95 \n",
        "num_bootstraps = 1000 \n",
        "\n",
        "# Loop through the ns. Note that the different approaches converge on the same answer as n gets large \n",
        "for n in [5, 10, 20, 40, 80, 160, 1000]:\n",
        "\n",
        "  # simulate some data \n",
        "  samples = np.random.normal(mu, sigma, n) \n",
        "\n",
        "  # save the mean \n",
        "  sample_mean = np.mean(samples)\n",
        "\n",
        "  # show the mean, n \n",
        "  print(f'n = {n}, mean = {sample_mean:.2f}') \n",
        "\n",
        "  # Method 2: analytic solution assuming t-distribution \n",
        "  # Best is n is small (<30) ... note that as n increases, the t distribution approaches a Gaussian and methods 1 and 2 become more and more similar\n",
        "\n",
        "  # Get the cutoff using the t distribution, which is said to have n-1 degrees of freedom \n",
        "  t = -st.t.ppf((1-alpha)/2,df=n-1)\n",
        "  sem = np.std(samples)/np.sqrt(n); \n",
        "  print(f'3 : CI=[{sample_mean-sem*t:.2f}, {sample_mean+sem*t:.2f}]')"
      ],
      "metadata": {
        "colab": {
          "base_uri": "https://localhost:8080/"
        },
        "id": "ANMvZg9HDhRf",
        "outputId": "edc6c593-1ae7-4e92-f499-35982ba3df37"
      },
      "execution_count": 20,
      "outputs": [
        {
          "output_type": "stream",
          "name": "stdout",
          "text": [
            "n = 5, mean = 9.47\n",
            "3 : CI=[7.75, 11.19]\n",
            "n = 10, mean = 9.30\n",
            "3 : CI=[8.53, 10.06]\n",
            "n = 20, mean = 10.20\n",
            "3 : CI=[9.61, 10.79]\n",
            "n = 40, mean = 10.14\n",
            "3 : CI=[9.62, 10.66]\n",
            "n = 80, mean = 9.85\n",
            "3 : CI=[9.38, 10.32]\n",
            "n = 160, mean = 9.93\n",
            "3 : CI=[9.66, 10.21]\n",
            "n = 1000, mean = 9.98\n",
            "3 : CI=[9.85, 10.11]\n"
          ]
        }
      ]
    },
    {
      "cell_type": "code",
      "source": [
        "mu = 10 \n",
        "sigma = 2 \n",
        "alpha = 0.95 \n",
        "num_bootstraps = 1000 \n",
        "\n",
        "# Loop through the ns. Note that the different approaches converge on the same answer as n gets large \n",
        "for n in [5, 10, 20, 40, 80, 160, 1000]:\n",
        "\n",
        "  # simulate some data \n",
        "  samples = np.random.normal(mu, sigma, n) \n",
        "\n",
        "  # save the mean \n",
        "  sample_mean = np.mean(samples)\n",
        "\n",
        "  # show the mean, n \n",
        "  print(f'n = {n}, mean = {sample_mean:.2f}') \n",
        "\n",
        "  # Method 3: bootstrap \n",
        "  # Resample the data with replacement to get new estimates of mu \n",
        "  # Note that here we do not make assumptions about the nature of the real distribution. \n",
        "  mu_star = [np.mean(np.random.choice(samples, size=n)) for ii in np.arange(num_bootstraps)]\n",
        "\n",
        "  # Now report the CI directly from the bootstrapped distribution \n",
        "  print(f'4 : CI=[{np.percentile(mu_star, 100*(1-alpha)/2):.2f}, {np.percentile(mu_star, 100*(alpha+(1-alpha)/2)):.2f}]')\n"
      ],
      "metadata": {
        "colab": {
          "base_uri": "https://localhost:8080/"
        },
        "id": "xu0q_lA2_mbR",
        "outputId": "3c001af6-4c0c-4b9a-b51c-95180d77f802"
      },
      "execution_count": 19,
      "outputs": [
        {
          "output_type": "stream",
          "name": "stdout",
          "text": [
            "n = 5, mean = 11.24\n",
            "4 : CI=[9.83, 12.73]\n",
            "n = 10, mean = 9.98\n",
            "4 : CI=[9.12, 10.88]\n",
            "n = 20, mean = 10.14\n",
            "4 : CI=[9.39, 11.03]\n",
            "n = 40, mean = 9.91\n",
            "4 : CI=[9.36, 10.46]\n",
            "n = 80, mean = 9.97\n",
            "4 : CI=[9.58, 10.41]\n",
            "n = 160, mean = 10.31\n",
            "4 : CI=[10.01, 10.58]\n",
            "n = 1000, mean = 9.97\n",
            "4 : CI=[9.85, 10.09]\n"
          ]
        }
      ]
    },
    {
      "cell_type": "code",
      "source": [
        "mu = 10 \n",
        "sigma = 2 \n",
        "alpha = 0.95 \n",
        "num_bootstraps = 1000 \n",
        "\n",
        "# Loop through the ns. Note that the different approaches converge on the same answer as n gets large \n",
        "for n in [5, 10, 20, 40, 80, 160, 1000]:\n",
        "\n",
        "  # simulate some data \n",
        "  samples = np.random.normal(mu, sigma, n) \n",
        "\n",
        "  # save the mean \n",
        "  sample_mean = np.mean(samples)\n",
        "\n",
        "  # show the mean, n \n",
        "  print(f'n = {n}, mean = {sample_mean:.2f}') \n",
        "\n",
        "  # Method 4: Credible interval \n",
        "  print(f'----')"
      ],
      "metadata": {
        "colab": {
          "base_uri": "https://localhost:8080/"
        },
        "id": "jI-zlY2zBaUP",
        "outputId": "eb30e074-5724-4aca-9211-c23b613b67c0"
      },
      "execution_count": 18,
      "outputs": [
        {
          "output_type": "stream",
          "name": "stdout",
          "text": [
            "n = 5, mean = 12.21\n",
            "----\n",
            "n = 10, mean = 9.55\n",
            "----\n",
            "n = 20, mean = 10.41\n",
            "----\n",
            "n = 40, mean = 10.16\n",
            "----\n",
            "n = 80, mean = 10.41\n",
            "----\n",
            "n = 160, mean = 9.82\n",
            "----\n",
            "n = 1000, mean = 9.97\n",
            "----\n"
          ]
        }
      ]
    }
  ]
}