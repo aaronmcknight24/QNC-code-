{
  "cells": [
    {
      "cell_type": "markdown",
      "metadata": {
        "id": "JQqGoUeY2BRU"
      },
      "source": [
        "[![Open In Colab](https://colab.research.google.com/assets/colab-badge.svg)](https://colab.research.google.com/github/PennNGG/Quantitative-Neuroscience/blob/master/Concepts/Python/Frequentist%20Versus%20Bayesian%20Approaches.ipynb)"
      ]
    },
    {
      "cell_type": "markdown",
      "metadata": {
        "id": "pKIiY6p3GRFq"
      },
      "source": [
        "# Definition"
      ]
    },
    {
      "cell_type": "markdown",
      "metadata": {
        "id": "x7VmLUr5GTNw"
      },
      "source": [
        "Debates between frequentists and Bayesians have carried on for years, touching on issues that are in some cases very [practical](https://www.ejwagenmakers.com/2008/BayesFreqBook.pdf) and other cases much more [philosophical](http://www.stat.columbia.edu/~gelman/research/published/philosophy.pdf). The goal here is not to dive deeply into all of those debates but rather to introduce you to the basic issues, because they are at the heart of what we can and cannot do with statistics.\n",
        "\n",
        "More specifically, the two camps differ fundamentally on how to interpret randomness, which profoundly affects the kinds of inferences that can be drawn on the basis of noisy data:\n",
        "\n",
        "A **frequentist** thinks of probability only in terms of the frequency of many repeated events that include some element of randomness. **To a frequentist, assigning a probability to a singular event that can either happen or not happen, particularly one that is not directly or yet measured,  is nonsensical** (\"There is no place in our system for speculations concerning the probability that the sun will rise tomorrow\" -- William Feller). As a consequence of these ideas, a frequentist operates on the conditional distribution of the data, assuming that a hypothesis is true. That is, one makes a series of repeated measurements (the data) under fixed conditions, obtaining what is essentially a histogram. Inferences about the nature of the process that generated the data then allow only for this definition of randomness or uncertainty: the obtained variability in the data. Questions of the form \"What is the probability that process x generated my data?\" are undefined in this framework, because a probability cannot be assigned to an unknown and unseeable process (or \"hypothesis\"), only to repeated measures. Instead, the best you can do is simply assume that a particular process was the one that generated your data, and then ask \"What is the probability that I would have obtained my data, assuming that x was the true process?\" This question is the basis for null hypotheses (typically defined in terms of the parameters of the probability distribution that you would expect the data to be drawn from under a particular set of assumptions) and p-values: computing the likelihood p(data | null hypothesis).\n",
        "\n",
        "Benefits of this approach are that frequentist-based statistics are typically relatively easy to compute, they require few assumptions, and they tend to promote good experimental design (because you need to very carefully control the conditions under which the data are collected).\n",
        "\n",
        "Drawbacks include the fact that definitions of probability in this framework are often highly counter-intuitive to how most of us think, resulting in results that can be very difficult to interpret. A good example is the concept of a \"confidence interval\" in frequentist statistics, which is described nicely [here](https://jfiksel.github.io/2018-01-08-explaining-confidence-intervals/).\n",
        "\n",
        "A **Bayesian** thinks of probability as the degree of belief in a proposition (or hypothesis). In this framework, data represent evidence that can support or oppose such a belief, which is represented as a  probability distribution. Thus, unlike from the frequentist perspective, **from the Bayesian perspective it is perfectly natural to describe the belief (or probability) that particular values of particular parameters of a particular probability distribution (together encompassing a \"hypothesis\" about the data) are true**.\n",
        "\n",
        "These ideas are derived directly from the definition of joint probability (see [Independence and Lack Thereof](https://colab.research.google.com/drive/1YFwKKkWUjtV6_Nx2upNpFYHJNeXIeQB6) for a related discussion):\n",
        "\n",
        "$P(A\\cap B)=p(A|B)\\times p(B) = p(B|A)\\times p(A)$\n",
        "\n",
        "where $P(A\\cap B)$ is read as \"the probability that A and B are true\" and P(A | B) is read as \"the probability that A is true, given that B is true\" or just \"the probability of A given B.\"\n",
        "\n",
        "If we call A the Hypothesis and B the Data, and rearrange, we get Bayes' Rule:\n",
        "\n",
        "$P(Hypothesis|Data)=\\frac{P(Data|hypothesis)\\times P(Hypothesis)}{P(Data)}$\n",
        "\n",
        "Where *P*(*Hypothesis* | *Data*) is called the posterior probability (or just posterior), *P*(*Data* | *Hypothesis*) is the likelihood, *P*(*Hypothesis*) is the prior, and *P*(*Data*) is the marginal probability of the data.\n",
        "\n",
        "Benefits of the Bayesian approach are that it tends to get at the intuitive concepts that one is addressing (e.g., the probability that a hypothesis is true, given the data), and it does so in a rigorous manner.\n",
        "\n",
        "Drawbacks include questions about [how to identify an appropriate prior](https://stats.stackexchange.com/questions/78606/how-to-choose-prior-in-bayesian-parameter-estimation).\n"
      ]
    },
    {
      "cell_type": "markdown",
      "metadata": {
        "id": "isP38xJSbJuA"
      },
      "source": [
        "# Tutorial and Exercises"
      ]
    },
    {
      "cell_type": "markdown",
      "metadata": {
        "id": "-Eh2Pu8glb6C"
      },
      "source": [
        "To use this tutorial, read the text and then try to generate code to solve the exercises. Answers will be posted to GitHub after the class they are due.\n",
        "\n",
        "The learning objective is to gain insights into thinking about inference from a \"Frequentist\" versus a \"Bayesian\" perspective. In brief, because a Frequentist does not consider the probability of an event or state of the world or hypothesis, only their frequency of occurrance, it is not possible to ask questions of the form \"what is the probabilty that hypothesis x is true?\" Instead, one can only consider questions of the form, \"what is the probabilty that I would have obtained my data, given that hypothesis x is true?\" In contrast, Bayesians consider the probabilities of such things (often called the strength of belief), but doing so can require making assumptions that can be difficult to prove.\n",
        "\n",
        "Let's start with a simple example, taken from:\n",
        "\n",
        "https://en.wikipedia.org/wiki/Base_rate_fallacy#Example_1:_HIV\n",
        "\n",
        "\"Imagine running an HIV test on A SAMPLE of 1000 persons ...\"\n",
        "\n",
        "\"The test has a false positive rate of 5% (0.05)...\" i.e., the probability that someone who takes the test gets a POSITIVE result despite the fact that the person does NOT have HIV\n",
        "\n",
        "\"...and no false negative rate.\" i.e., The probability that someone who takes the test gets a NEGATIVE result despite the fact that the person DOES have HIV.\n",
        "\n",
        "Answers to the exercises below will be found [here](https://github.com/PennNGG/Quantitative-Neuroscience/tree/master/Answers%20to%20Exercises/Python) after the due date."
      ]
    },
    {
      "cell_type": "markdown",
      "source": [
        "What is the p-value meant to quantify? Is this feuqentist or bayseian \n",
        "\n",
        "Whati is the null hypothesis \n",
        "\n",
        "What is the probability of getting the data (positive result) given the null hypothesis (not infected)> \n",
        "\n",
        "So, at a threshold on 0.05, is the result statistically significant? \n",
        "  No techincally not \n",
        "  P value is techinically a false negative (the probability that someone who takes the test gets a negative result despite the fact the person does have HIV "
      ],
      "metadata": {
        "id": "ty22Yq704INV"
      }
    },
    {
      "cell_type": "markdown",
      "metadata": {
        "id": "J3hkaaTFlukb"
      },
      "source": [
        "### Exercise #1: If someone gets a positive test, is it \"statistically significant\" at the p<0.05 level? Why or why not?"
      ]
    },
    {
      "cell_type": "markdown",
      "source": [
        "What is the p-value meant to quantify? Is this feuqentist or bayseian\n",
        "\n",
        "What is the null hypothesis\n",
        "\n",
        "What is the probability of getting the data (positive result) given the null hypothesis (not infected)>\n",
        "\n",
        "So, at a threshold on 0.05, is the result statistically significant? No techincally not P value is techinically a false negative (the probability that someone who takes the test gets a negative result despite the fact the person does have HIV "
      ],
      "metadata": {
        "id": "FJ8pvE1x5vbk"
      }
    },
    {
      "cell_type": "markdown",
      "source": [
        "This is my answer"
      ],
      "metadata": {
        "id": "QvOCHomj2Iu6"
      }
    },
    {
      "cell_type": "markdown",
      "metadata": {
        "id": "1ItR0WXCmBgL"
      },
      "source": [
        "### Exercise #2: What is the probability that if someone gets a positive test, that person is infected?"
      ]
    },
    {
      "cell_type": "markdown",
      "metadata": {
        "id": "EJ7aAEoKmkTV"
      },
      "source": [
        "Following on Exercise #2, let's do the same thing, but this time we will try different values for the proportion of the population that is actually infected. What you should notice is that the **PROPORTION INFECTED GIVEN A POSITIVE TEST** depends (a lot!) on the **OVERALL RATE OF INFECTION**. Put another way, to determine the probabilty of a hypothesis, given your data (e.g., proportion infected given a positive test), you have to know the probability that the hypothesis was true without any data.\n",
        "\n",
        "Why is this the case? It is a simple consequence of the definition of a conditional probability, formulated as Bayes' Rule. Specifically, the joint probability of two events, call them A and B, is defined as: $$p(A\\,and\\,B) = p(A) \\times p(B\\,|\\,A)$$ $$p(B\\,and\\,A) = p(B) \\times p(A\\,|\\,B)$$\n",
        "\n",
        "Now, calling A the Hypothesis and B the Data, then rearranging, we get:$$p(Hypothesis\\,|\\,Data) = \\frac{p(Data\\,|\\,Hypothesis) \\times p(Hypothesis)}{p(Data)}$$\n",
        "\n",
        "So you cannot calculate the probability of the hypothesis, given the data (i.e., the Bayesian posterior), without knowing the probability of the hypothesis independent of any data (i.e., the prior).\n",
        "\n",
        "For this exercise, assume a range of priors (infection rates) from 0 to 1 in steps of 0.1."
      ]
    },
    {
      "cell_type": "markdown",
      "source": [],
      "metadata": {
        "id": "5MPg8lsi540j"
      }
    },
    {
      "cell_type": "markdown",
      "source": [
        "Is this a bayesian or frequentist framework? Bayesian \n",
        "\n",
        "What information do we need to calculate the probability? \n",
        "Priors, population size, prelavance rate \n",
        "\n",
        "true_inf = the total number of people who are infected and tested positive \n",
        "all_pos = the total number of people who got a positive result \n",
        " p(Inf I pos) = true_inf/all_pos \n",
        "\n",
        " import scipy.stats as st \n",
        " import numpy as np \n",
        "\n",
        " # let's simulate our sample,assuming at first that 50% of the population is infected \n",
        "\n",
        " N = 100 \n",
        " false_positive_rate = 0.5 \n",
        " false_negative_rate = 0 \n",
        " prop_infected = 0.5 \n",
        "\n",
        " # Generate a binomial distribution follwoing our setup, here I will correspond to infected and 0 to not infected \n",
        "\n",
        " is_infected = st.binom.rvs(1, prop_infected, size = N) \n",
        " num_infected = is_infected.sum() # count how many are infected in our sin \n",
        "\n",
        " # now we just need to determine how many people got a positive result \n",
        " # since we know that the false negative is 0, everyone who is infected got a positive result \n",
        "\n",
        " is_positive = np.copy(is_infected) # this just copies over earlier stimulate distrubtion \n",
        "\n",
        " #however, the false positive rate is 0.05, so we must include these in our count\n",
        " #we can turn a subset of the negative results into positive bt simulating false positives \n",
        "\n",
        " is_positive[is_infected==0] = st.binom.rvs(1, false_positive_rate, size=N-num_infected) \n",
        "\n",
        " #now we have all we need to calculate the probability tht some with a positive test is infected \n",
        "\n",
        " p_is_infected_given_is_positive = (np.logical =_and(is_infected==1, is_positive==1).sum())/is_positive\n",
        "\n",
        " #write it out fancy \n",
        " print(f'The probability of being infected given a positive result is {p_\n",
        "\n",
        "\n",
        "Exercise 2: \n",
        "# let's set up the priors (infection rates) we're going to use \n",
        " infected_proportions = np.arange(0.0, 1.1, 0.1) \n",
        "\n",
        " for rate in infected_proportions: \n",
        "      is_infected = st.binom.rvs(1, rate, size=N) \n",
        "#add to it the number of false positives \n",
        "      is_positive = np.copy(is_infected) \n",
        "      is_positive[is_infected==0]= st.binom.rsv(1, false_positive_rate, size=N-num_infected) \n",
        "      p_is_infected_given_is_positive = (np.logical_and(is_infected==1, is_positive==1.sum())/is_infected\n",
        "      p_data_given_hypothesis = 1 -false_positive_rate \n",
        "      p+hypthesis = rate \n",
        "      p_data = is_positive.sum()/is_positive.sie \n",
        "      p_hypthesis_given_data = (p_data_given_hypothesis * p_hypothesis) / p_data\n",
        "\n"
      ],
      "metadata": {
        "id": "i6biIGsS6Xrr"
      }
    },
    {
      "cell_type": "markdown",
      "metadata": {
        "id": "tteEm2Qlgbb3"
      },
      "source": [
        "# Credits\n",
        "\n",
        "Copyright 2021 by Joshua I. Gold, University of Pennsylvania"
      ]
    }
  ],
  "metadata": {
    "colab": {
      "collapsed_sections": [
        "pKIiY6p3GRFq",
        "J3hkaaTFlukb"
      ],
      "name": "Frequentist Versus Bayesian Approaches",
      "provenance": [],
      "toc_visible": true
    },
    "kernelspec": {
      "display_name": "Python 3",
      "name": "python3"
    },
    "language_info": {
      "name": "python"
    }
  },
  "nbformat": 4,
  "nbformat_minor": 0
}